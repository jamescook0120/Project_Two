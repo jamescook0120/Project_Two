{
 "cells": [
  {
   "cell_type": "code",
   "execution_count": 2,
   "metadata": {},
   "outputs": [],
   "source": [
    "import pandas as pd\n",
    "import os\n",
    "import sys\n",
    "import matplotlib.pyplot as plt"
   ]
  },
  {
   "cell_type": "code",
   "execution_count": 3,
   "metadata": {},
   "outputs": [],
   "source": [
    "# The second example again looks at the LAX temperature data set and computes quantiles\n",
    "file_one = \"../../Original_Project/Draft_data/average_data.csv\"\n",
    "file_one_df = pd.read_csv(file_one, encoding=\"ISO-8859-1\")\n"
   ]
  },
  {
   "cell_type": "code",
   "execution_count": 4,
   "metadata": {},
   "outputs": [
    {
     "data": {
      "text/html": [
       "<div>\n",
       "<style scoped>\n",
       "    .dataframe tbody tr th:only-of-type {\n",
       "        vertical-align: middle;\n",
       "    }\n",
       "\n",
       "    .dataframe tbody tr th {\n",
       "        vertical-align: top;\n",
       "    }\n",
       "\n",
       "    .dataframe thead th {\n",
       "        text-align: right;\n",
       "    }\n",
       "</style>\n",
       "<table border=\"1\" class=\"dataframe\">\n",
       "  <thead>\n",
       "    <tr style=\"text-align: right;\">\n",
       "      <th></th>\n",
       "      <th>Rnd</th>\n",
       "      <th>Pick</th>\n",
       "      <th>Tm</th>\n",
       "      <th>Player</th>\n",
       "      <th>Pos</th>\n",
       "      <th>Age</th>\n",
       "      <th>To</th>\n",
       "      <th>AP1</th>\n",
       "      <th>PB</th>\n",
       "      <th>St</th>\n",
       "      <th>...</th>\n",
       "      <th>Rushing Attempts</th>\n",
       "      <th>Rushing Yards</th>\n",
       "      <th>Rushing Touchdowns</th>\n",
       "      <th>Receptions</th>\n",
       "      <th>Receiving Yards</th>\n",
       "      <th>Receiving Touchdowns</th>\n",
       "      <th>Solo</th>\n",
       "      <th>Interceptions (DEF)</th>\n",
       "      <th>Sacks</th>\n",
       "      <th>College</th>\n",
       "    </tr>\n",
       "  </thead>\n",
       "  <tbody>\n",
       "    <tr>\n",
       "      <th>0</th>\n",
       "      <td>1</td>\n",
       "      <td>1</td>\n",
       "      <td>CIN</td>\n",
       "      <td>Carson Palmer</td>\n",
       "      <td>QB</td>\n",
       "      <td>23.0</td>\n",
       "      <td>2017.0</td>\n",
       "      <td>0</td>\n",
       "      <td>3</td>\n",
       "      <td>12</td>\n",
       "      <td>...</td>\n",
       "      <td>1.653846</td>\n",
       "      <td>2.604396</td>\n",
       "      <td>0.043956</td>\n",
       "      <td>0.000000</td>\n",
       "      <td>0.000000</td>\n",
       "      <td>0.000000</td>\n",
       "      <td>0.005495</td>\n",
       "      <td>0.000000</td>\n",
       "      <td>0.000000</td>\n",
       "      <td>USC</td>\n",
       "    </tr>\n",
       "    <tr>\n",
       "      <th>1</th>\n",
       "      <td>1</td>\n",
       "      <td>2</td>\n",
       "      <td>DET</td>\n",
       "      <td>Charles Rogers</td>\n",
       "      <td>WR</td>\n",
       "      <td>22.0</td>\n",
       "      <td>2005.0</td>\n",
       "      <td>0</td>\n",
       "      <td>0</td>\n",
       "      <td>0</td>\n",
       "      <td>...</td>\n",
       "      <td>0.133333</td>\n",
       "      <td>1.133333</td>\n",
       "      <td>0.000000</td>\n",
       "      <td>2.400000</td>\n",
       "      <td>29.333333</td>\n",
       "      <td>0.266667</td>\n",
       "      <td>0.000000</td>\n",
       "      <td>0.000000</td>\n",
       "      <td>0.000000</td>\n",
       "      <td>Michigan St.</td>\n",
       "    </tr>\n",
       "    <tr>\n",
       "      <th>2</th>\n",
       "      <td>1</td>\n",
       "      <td>3</td>\n",
       "      <td>HOU</td>\n",
       "      <td>Andre Johnson</td>\n",
       "      <td>WR</td>\n",
       "      <td>22.0</td>\n",
       "      <td>2016.0</td>\n",
       "      <td>2</td>\n",
       "      <td>7</td>\n",
       "      <td>12</td>\n",
       "      <td>...</td>\n",
       "      <td>0.119171</td>\n",
       "      <td>0.279793</td>\n",
       "      <td>0.000000</td>\n",
       "      <td>5.502591</td>\n",
       "      <td>73.497409</td>\n",
       "      <td>0.362694</td>\n",
       "      <td>0.005181</td>\n",
       "      <td>0.000000</td>\n",
       "      <td>0.000000</td>\n",
       "      <td>Miami (FL)</td>\n",
       "    </tr>\n",
       "    <tr>\n",
       "      <th>3</th>\n",
       "      <td>1</td>\n",
       "      <td>4</td>\n",
       "      <td>NYJ</td>\n",
       "      <td>Dewayne Robertson</td>\n",
       "      <td>DT</td>\n",
       "      <td>21.0</td>\n",
       "      <td>2008.0</td>\n",
       "      <td>0</td>\n",
       "      <td>0</td>\n",
       "      <td>6</td>\n",
       "      <td>...</td>\n",
       "      <td>0.000000</td>\n",
       "      <td>0.000000</td>\n",
       "      <td>0.000000</td>\n",
       "      <td>0.000000</td>\n",
       "      <td>0.000000</td>\n",
       "      <td>0.000000</td>\n",
       "      <td>2.119565</td>\n",
       "      <td>0.000000</td>\n",
       "      <td>0.173913</td>\n",
       "      <td>Kentucky</td>\n",
       "    </tr>\n",
       "    <tr>\n",
       "      <th>4</th>\n",
       "      <td>1</td>\n",
       "      <td>5</td>\n",
       "      <td>DAL</td>\n",
       "      <td>Terence Newman</td>\n",
       "      <td>DB</td>\n",
       "      <td>25.0</td>\n",
       "      <td>2017.0</td>\n",
       "      <td>0</td>\n",
       "      <td>2</td>\n",
       "      <td>15</td>\n",
       "      <td>...</td>\n",
       "      <td>0.004525</td>\n",
       "      <td>0.018100</td>\n",
       "      <td>0.000000</td>\n",
       "      <td>0.000000</td>\n",
       "      <td>0.000000</td>\n",
       "      <td>0.000000</td>\n",
       "      <td>3.389140</td>\n",
       "      <td>0.190045</td>\n",
       "      <td>0.009050</td>\n",
       "      <td>Kansas St.</td>\n",
       "    </tr>\n",
       "  </tbody>\n",
       "</table>\n",
       "<p>5 rows × 28 columns</p>\n",
       "</div>"
      ],
      "text/plain": [
       "   Rnd  Pick   Tm             Player Pos   Age      To  AP1  PB  St  ...  \\\n",
       "0    1     1  CIN      Carson Palmer  QB  23.0  2017.0    0   3  12  ...   \n",
       "1    1     2  DET     Charles Rogers  WR  22.0  2005.0    0   0   0  ...   \n",
       "2    1     3  HOU      Andre Johnson  WR  22.0  2016.0    2   7  12  ...   \n",
       "3    1     4  NYJ  Dewayne Robertson  DT  21.0  2008.0    0   0   6  ...   \n",
       "4    1     5  DAL     Terence Newman  DB  25.0  2017.0    0   2  15  ...   \n",
       "\n",
       "   Rushing Attempts  Rushing Yards  Rushing Touchdowns  Receptions  \\\n",
       "0          1.653846       2.604396            0.043956    0.000000   \n",
       "1          0.133333       1.133333            0.000000    2.400000   \n",
       "2          0.119171       0.279793            0.000000    5.502591   \n",
       "3          0.000000       0.000000            0.000000    0.000000   \n",
       "4          0.004525       0.018100            0.000000    0.000000   \n",
       "\n",
       "   Receiving Yards  Receiving Touchdowns      Solo  Interceptions (DEF)  \\\n",
       "0         0.000000              0.000000  0.005495             0.000000   \n",
       "1        29.333333              0.266667  0.000000             0.000000   \n",
       "2        73.497409              0.362694  0.005181             0.000000   \n",
       "3         0.000000              0.000000  2.119565             0.000000   \n",
       "4         0.000000              0.000000  3.389140             0.190045   \n",
       "\n",
       "      Sacks       College  \n",
       "0  0.000000           USC  \n",
       "1  0.000000  Michigan St.  \n",
       "2  0.000000    Miami (FL)  \n",
       "3  0.173913      Kentucky  \n",
       "4  0.009050    Kansas St.  \n",
       "\n",
       "[5 rows x 28 columns]"
      ]
     },
     "execution_count": 4,
     "metadata": {},
     "output_type": "execute_result"
    }
   ],
   "source": [
    "file_one_df.head()"
   ]
  },
  {
   "cell_type": "code",
   "execution_count": 6,
   "metadata": {},
   "outputs": [
    {
     "name": "stderr",
     "output_type": "stream",
     "text": [
      "<ipython-input-6-ab2398f8cc1f>:7: UserWarning: FixedFormatter should only be used together with FixedLocator\n",
      "  ax1.set_xticklabels(('CarAV','DrAV','Games'))\n"
     ]
    },
    {
     "data": {
      "image/png": "[encoded data removed]",
      "text/plain": [
       "<Figure size 432x288 with 1 Axes>"
      ]
     },
     "metadata": {
      "needs_background": "light"
     },
     "output_type": "display_data"
    }
   ],
   "source": [
    "career = file_one_df[['CareerAV','DraftedAV','GamesPlayed']]\n",
    "career=career.fillna(0)\n",
    "career=career.loc[(career!=0).any(axis=1)]\n",
    "fig1, ax1 = plt.subplots()\n",
    "ax1.set_title('Added Value')\n",
    "ax1.set_ylabel('Scores')\n",
    "ax1.set_xticklabels(('CarAV','DrAV','Games'))\n",
    "ax1.boxplot(career)\n",
    "plt.savefig(\"../Static/images/Graphs/AVs.png\")\n",
    "plt.show()"
   ]
  },
  {
   "cell_type": "code",
   "execution_count": 9,
   "metadata": {
    "scrolled": true
   },
   "outputs": [
    {
     "name": "stderr",
     "output_type": "stream",
     "text": [
      "<ipython-input-9-d1127b906e2b>:7: UserWarning: FixedFormatter should only be used together with FixedLocator\n",
      "  ax1.set_xticklabels(('Completions','Attempts',' Yards'))\n"
     ]
    },
    {
     "data": {
      "image/png": "[encoded data removed]",
      "text/plain": [
       "<Figure size 432x288 with 1 Axes>"
      ]
     },
     "metadata": {
      "needs_background": "light"
     },
     "output_type": "display_data"
    }
   ],
   "source": [
    "Pass = file_one_df[['Pass Completions','Pass Attempts','Passing Yards']]\n",
    "Pass=Pass.fillna(0)\n",
    "Pass=Pass.loc[(Pass!=0).any(axis=1)]\n",
    "fig1, ax1 = plt.subplots()\n",
    "ax1.set_title('QB Statistics')\n",
    "ax1.set_ylabel('Scores')\n",
    "ax1.set_xticklabels(('Completions','Attempts',' Yards'))\n",
    "ax1.boxplot(Pass)\n",
    "plt.savefig(\"../Static/images/Graphs/Pass.png\")\n",
    "plt.show()"
   ]
  },
  {
   "cell_type": "code",
   "execution_count": 10,
   "metadata": {},
   "outputs": [
    {
     "name": "stderr",
     "output_type": "stream",
     "text": [
      "<ipython-input-10-fa0a3002cc4f>:7: UserWarning: FixedFormatter should only be used together with FixedLocator\n",
      "  ax1.set_xticklabels(('Rushing Attempts','Rushing Yards'))\n"
     ]
    },
    {
     "data": {
      "image/png": "[encoded data removed]",
      "text/plain": [
       "<Figure size 432x288 with 1 Axes>"
      ]
     },
     "metadata": {
      "needs_background": "light"
     },
     "output_type": "display_data"
    }
   ],
   "source": [
    "Rushing = file_one_df[['Rushing Attempts','Rushing Yards']]\n",
    "Rushing=Rushing.fillna(0)\n",
    "Rushing=Rushing.loc[(Rushing!=0).any(axis=1)]\n",
    "fig1, ax1 = plt.subplots()\n",
    "ax1.set_title('Rushing Statistics')\n",
    "ax1.set_ylabel('Scores')\n",
    "ax1.set_xticklabels(('Rushing Attempts','Rushing Yards'))\n",
    "ax1.boxplot(Rushing)\n",
    "plt.savefig(\"../Static/images/Graphs/Rushing.png\")\n",
    "plt.show()"
   ]
  },
  {
   "cell_type": "code",
   "execution_count": 11,
   "metadata": {},
   "outputs": [
    {
     "name": "stderr",
     "output_type": "stream",
     "text": [
      "<ipython-input-11-003b7c206f00>:7: UserWarning: FixedFormatter should only be used together with FixedLocator\n",
      "  ax1.set_xticklabels(('Receptions','Receiving Yards'))\n"
     ]
    },
    {
     "data": {
      "image/png": "[encoded data removed]",
      "text/plain": [
       "<Figure size 432x288 with 1 Axes>"
      ]
     },
     "metadata": {
      "needs_background": "light"
     },
     "output_type": "display_data"
    }
   ],
   "source": [
    "Receiving = file_one_df[['Receptions','Receiving Yards']]\n",
    "Receiving=Receiving.fillna(0)\n",
    "Receiving=Receiving.loc[(Receiving!=0).any(axis=1)]\n",
    "fig1, ax1 = plt.subplots()\n",
    "ax1.set_title('Receiver Stats')\n",
    "ax1.set_ylabel('Scores')\n",
    "ax1.set_xticklabels(('Receptions','Receiving Yards'))\n",
    "ax1.boxplot(Receiving)\n",
    "plt.savefig(\"../Static/images/Graphs/Receiving.png\")\n",
    "plt.show()\n"
   ]
  },
  {
   "cell_type": "code",
   "execution_count": 13,
   "metadata": {},
   "outputs": [
    {
     "name": "stderr",
     "output_type": "stream",
     "text": [
      "<ipython-input-13-003ed1ff043a>:7: UserWarning: FixedFormatter should only be used together with FixedLocator\n",
      "  ax1.set_xticklabels(('Interceptions (DEF)','Sacks'))\n"
     ]
    },
    {
     "data": {
      "image/png": "[encoded data removed]",
      "text/plain": [
       "<Figure size 432x288 with 1 Axes>"
      ]
     },
     "metadata": {
      "needs_background": "light"
     },
     "output_type": "display_data"
    }
   ],
   "source": [
    "solo = file_one_df[['Interceptions (DEF)','Sacks']]\n",
    "solo=solo.fillna(0)\n",
    "solo=solo.loc[(solo!=0).any(axis=1)]\n",
    "fig1, ax1 = plt.subplots()\n",
    "ax1.set_title('Defensive Statistics')\n",
    "ax1.set_ylabel('Scores')\n",
    "ax1.set_xticklabels(('Interceptions (DEF)','Sacks'))\n",
    "ax1.boxplot(solo)\n",
    "plt.savefig(\"../Static/images/Graphs/solo.png\")\n",
    "plt.show()"
   ]
  },
  {
   "cell_type": "code",
   "execution_count": 14,
   "metadata": {},
   "outputs": [
    {
     "name": "stderr",
     "output_type": "stream",
     "text": [
      "C:\\Users\\james\\anaconda3\\lib\\site-packages\\sklearn\\utils\\deprecation.py:143: FutureWarning: The sklearn.datasets.samples_generator module is  deprecated in version 0.22 and will be removed in version 0.24. The corresponding classes / functions should instead be imported from sklearn.datasets. Anything that cannot be imported from sklearn.datasets is now part of the private API.\n",
      "  warnings.warn(message, FutureWarning)\n"
     ]
    }
   ],
   "source": [
    "# Dependencies\n",
    "import matplotlib.pyplot as plt\n",
    "import numpy as np\n",
    "from sklearn.datasets.samples_generator import make_blobs"
   ]
  },
  {
   "cell_type": "code",
   "execution_count": 15,
   "metadata": {},
   "outputs": [],
   "source": [
    "X, _ = make_blobs(n_samples=500, centers=6,\n",
    "                            cluster_std=0.70, random_state=0)"
   ]
  },
  {
   "cell_type": "code",
   "execution_count": null,
   "metadata": {},
   "outputs": [],
   "source": []
  }
 ],
 "metadata": {
  "kernelspec": {
   "display_name": "Python 3",
   "language": "python",
   "name": "python3"
  },
  "language_info": {
   "codemirror_mode": {
    "name": "ipython",
    "version": 3
   },
   "file_extension": ".py",
   "mimetype": "text/x-python",
   "name": "python",
   "nbconvert_exporter": "python",
   "pygments_lexer": "ipython3",
   "version": "3.8.5"
  }
 },
 "nbformat": 4,
 "nbformat_minor": 5
}
