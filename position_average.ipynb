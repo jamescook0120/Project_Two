{
 "cells": [
  {
   "cell_type": "code",
   "execution_count": 2,
   "id": "1e15a958",
   "metadata": {},
   "outputs": [],
   "source": [
    "import pandas as pd\n",
    "import os\n",
    "import sys\n",
    "import matplotlib.pyplot as plt"
   ]
  },
  {
   "cell_type": "code",
   "execution_count": 5,
   "id": "09b6d103",
   "metadata": {},
   "outputs": [],
   "source": [
    "# The second example again looks at the LAX temperature data set and computes quantiles\n",
    "file_one = \"Draft_data/average_data.csv\"\n",
    "file_one_df = pd.read_csv(file_one, encoding=\"ISO-8859-1\")\n"
   ]
  },
  {
   "cell_type": "code",
   "execution_count": 6,
   "id": "e43deb52",
   "metadata": {},
   "outputs": [
    {
     "data": {
      "text/html": [
       "<div>\n",
       "<style scoped>\n",
       "    .dataframe tbody tr th:only-of-type {\n",
       "        vertical-align: middle;\n",
       "    }\n",
       "\n",
       "    .dataframe tbody tr th {\n",
       "        vertical-align: top;\n",
       "    }\n",
       "\n",
       "    .dataframe thead th {\n",
       "        text-align: right;\n",
       "    }\n",
       "</style>\n",
       "<table border=\"1\" class=\"dataframe\">\n",
       "  <thead>\n",
       "    <tr style=\"text-align: right;\">\n",
       "      <th></th>\n",
       "      <th>Rnd</th>\n",
       "      <th>Pick</th>\n",
       "      <th>Tm</th>\n",
       "      <th>Player</th>\n",
       "      <th>Pos</th>\n",
       "      <th>Age</th>\n",
       "      <th>To</th>\n",
       "      <th>AP1</th>\n",
       "      <th>PB</th>\n",
       "      <th>St</th>\n",
       "      <th>...</th>\n",
       "      <th>Rushing Attempts</th>\n",
       "      <th>Rushing Yards</th>\n",
       "      <th>Rushing Touchdowns</th>\n",
       "      <th>Receptions</th>\n",
       "      <th>Receiving Yards</th>\n",
       "      <th>Receiving Touchdowns</th>\n",
       "      <th>Solo</th>\n",
       "      <th>Interceptions (DEF)</th>\n",
       "      <th>Sacks</th>\n",
       "      <th>College</th>\n",
       "    </tr>\n",
       "  </thead>\n",
       "  <tbody>\n",
       "    <tr>\n",
       "      <th>0</th>\n",
       "      <td>1</td>\n",
       "      <td>1</td>\n",
       "      <td>CIN</td>\n",
       "      <td>Carson Palmer</td>\n",
       "      <td>QB</td>\n",
       "      <td>23.0</td>\n",
       "      <td>2017.0</td>\n",
       "      <td>0</td>\n",
       "      <td>3</td>\n",
       "      <td>12</td>\n",
       "      <td>...</td>\n",
       "      <td>1.653846</td>\n",
       "      <td>2.604396</td>\n",
       "      <td>0.043956</td>\n",
       "      <td>0.000000</td>\n",
       "      <td>0.000000</td>\n",
       "      <td>0.000000</td>\n",
       "      <td>0.005495</td>\n",
       "      <td>0.000000</td>\n",
       "      <td>0.000000</td>\n",
       "      <td>USC</td>\n",
       "    </tr>\n",
       "    <tr>\n",
       "      <th>1</th>\n",
       "      <td>1</td>\n",
       "      <td>2</td>\n",
       "      <td>DET</td>\n",
       "      <td>Charles Rogers</td>\n",
       "      <td>WR</td>\n",
       "      <td>22.0</td>\n",
       "      <td>2005.0</td>\n",
       "      <td>0</td>\n",
       "      <td>0</td>\n",
       "      <td>0</td>\n",
       "      <td>...</td>\n",
       "      <td>0.133333</td>\n",
       "      <td>1.133333</td>\n",
       "      <td>0.000000</td>\n",
       "      <td>2.400000</td>\n",
       "      <td>29.333333</td>\n",
       "      <td>0.266667</td>\n",
       "      <td>0.000000</td>\n",
       "      <td>0.000000</td>\n",
       "      <td>0.000000</td>\n",
       "      <td>Michigan St.</td>\n",
       "    </tr>\n",
       "    <tr>\n",
       "      <th>2</th>\n",
       "      <td>1</td>\n",
       "      <td>3</td>\n",
       "      <td>HOU</td>\n",
       "      <td>Andre Johnson</td>\n",
       "      <td>WR</td>\n",
       "      <td>22.0</td>\n",
       "      <td>2016.0</td>\n",
       "      <td>2</td>\n",
       "      <td>7</td>\n",
       "      <td>12</td>\n",
       "      <td>...</td>\n",
       "      <td>0.119171</td>\n",
       "      <td>0.279793</td>\n",
       "      <td>0.000000</td>\n",
       "      <td>5.502591</td>\n",
       "      <td>73.497409</td>\n",
       "      <td>0.362694</td>\n",
       "      <td>0.005181</td>\n",
       "      <td>0.000000</td>\n",
       "      <td>0.000000</td>\n",
       "      <td>Miami (FL)</td>\n",
       "    </tr>\n",
       "    <tr>\n",
       "      <th>3</th>\n",
       "      <td>1</td>\n",
       "      <td>4</td>\n",
       "      <td>NYJ</td>\n",
       "      <td>Dewayne Robertson</td>\n",
       "      <td>DT</td>\n",
       "      <td>21.0</td>\n",
       "      <td>2008.0</td>\n",
       "      <td>0</td>\n",
       "      <td>0</td>\n",
       "      <td>6</td>\n",
       "      <td>...</td>\n",
       "      <td>0.000000</td>\n",
       "      <td>0.000000</td>\n",
       "      <td>0.000000</td>\n",
       "      <td>0.000000</td>\n",
       "      <td>0.000000</td>\n",
       "      <td>0.000000</td>\n",
       "      <td>2.119565</td>\n",
       "      <td>0.000000</td>\n",
       "      <td>0.173913</td>\n",
       "      <td>Kentucky</td>\n",
       "    </tr>\n",
       "    <tr>\n",
       "      <th>4</th>\n",
       "      <td>1</td>\n",
       "      <td>5</td>\n",
       "      <td>DAL</td>\n",
       "      <td>Terence Newman</td>\n",
       "      <td>DB</td>\n",
       "      <td>25.0</td>\n",
       "      <td>2017.0</td>\n",
       "      <td>0</td>\n",
       "      <td>2</td>\n",
       "      <td>15</td>\n",
       "      <td>...</td>\n",
       "      <td>0.004525</td>\n",
       "      <td>0.018100</td>\n",
       "      <td>0.000000</td>\n",
       "      <td>0.000000</td>\n",
       "      <td>0.000000</td>\n",
       "      <td>0.000000</td>\n",
       "      <td>3.389140</td>\n",
       "      <td>0.190045</td>\n",
       "      <td>0.009050</td>\n",
       "      <td>Kansas St.</td>\n",
       "    </tr>\n",
       "  </tbody>\n",
       "</table>\n",
       "<p>5 rows × 28 columns</p>\n",
       "</div>"
      ],
      "text/plain": [
       "   Rnd  Pick   Tm             Player Pos   Age      To  AP1  PB  St  ...  \\\n",
       "0    1     1  CIN      Carson Palmer  QB  23.0  2017.0    0   3  12  ...   \n",
       "1    1     2  DET     Charles Rogers  WR  22.0  2005.0    0   0   0  ...   \n",
       "2    1     3  HOU      Andre Johnson  WR  22.0  2016.0    2   7  12  ...   \n",
       "3    1     4  NYJ  Dewayne Robertson  DT  21.0  2008.0    0   0   6  ...   \n",
       "4    1     5  DAL     Terence Newman  DB  25.0  2017.0    0   2  15  ...   \n",
       "\n",
       "   Rushing Attempts  Rushing Yards  Rushing Touchdowns  Receptions  \\\n",
       "0          1.653846       2.604396            0.043956    0.000000   \n",
       "1          0.133333       1.133333            0.000000    2.400000   \n",
       "2          0.119171       0.279793            0.000000    5.502591   \n",
       "3          0.000000       0.000000            0.000000    0.000000   \n",
       "4          0.004525       0.018100            0.000000    0.000000   \n",
       "\n",
       "   Receiving Yards  Receiving Touchdowns      Solo  Interceptions (DEF)  \\\n",
       "0         0.000000              0.000000  0.005495             0.000000   \n",
       "1        29.333333              0.266667  0.000000             0.000000   \n",
       "2        73.497409              0.362694  0.005181             0.000000   \n",
       "3         0.000000              0.000000  2.119565             0.000000   \n",
       "4         0.000000              0.000000  3.389140             0.190045   \n",
       "\n",
       "      Sacks       College  \n",
       "0  0.000000           USC  \n",
       "1  0.000000  Michigan St.  \n",
       "2  0.000000    Miami (FL)  \n",
       "3  0.173913      Kentucky  \n",
       "4  0.009050    Kansas St.  \n",
       "\n",
       "[5 rows x 28 columns]"
      ]
     },
     "execution_count": 6,
     "metadata": {},
     "output_type": "execute_result"
    }
   ],
   "source": [
    "file_one_df.head()"
   ]
  },
  {
   "cell_type": "code",
   "execution_count": 9,
   "id": "04ff2488",
   "metadata": {},
   "outputs": [
    {
     "data": {
      "image/png": "[encoded data removed]",
      "text/plain": [
       "<Figure size 432x288 with 1 Axes>"
      ]
     },
     "metadata": {
      "needs_background": "light"
     },
     "output_type": "display_data"
    }
   ],
   "source": [
    "career = file_one_df[['CareerAV','DraftedAV','GamesPlayed']]\n",
    "\n",
    "fig1, ax1 = plt.subplots()\n",
    "ax1.set_title('CareerAV_DraftedAV_Gamesplayed')\n",
    "ax1.set_ylabel('K_M_Columns')\n",
    "ax1.boxplot(career)\n",
    "plt.show()"
   ]
  },
  {
   "cell_type": "code",
   "execution_count": 14,
   "id": "9cd6ce24",
   "metadata": {},
   "outputs": [
    {
     "data": {
      "image/png": "[encoded data removed]",
      "text/plain": [
       "<Figure size 432x288 with 1 Axes>"
      ]
     },
     "metadata": {
      "needs_background": "light"
     },
     "output_type": "display_data"
    }
   ],
   "source": [
    "Pass = file_one_df[['Pass Completions','Pass Attempts','Passing Yards','Passing Touchdowns','Thrown Interceptions']]\n",
    "Pass=Pass.fillna(0)\n",
    "fig1, ax1 = plt.subplots()\n",
    "ax1.set_title('PassCompletions_PassAttempts_PassingYards_PassingTouchdowns_ThrownInterceptions')\n",
    "ax1.set_ylabel('N_R_Columns')\n",
    "ax1.boxplot(Pass)\n",
    "plt.show()"
   ]
  },
  {
   "cell_type": "code",
   "execution_count": 16,
   "id": "d8628ffd",
   "metadata": {},
   "outputs": [
    {
     "data": {
      "image/png": "[encoded data removed]",
      "text/plain": [
       "<Figure size 432x288 with 1 Axes>"
      ]
     },
     "metadata": {
      "needs_background": "light"
     },
     "output_type": "display_data"
    }
   ],
   "source": [
    "Rushing = file_one_df[['Rushing Attempts','Rushing Yards','Rushing Touchdowns']]\n",
    "Rushing=Rushing.fillna(0)\n",
    "fig1, ax1 = plt.subplots()\n",
    "ax1.set_title('RushingAttempts_RushingYards_RushingTouchdowns')\n",
    "ax1.set_ylabel('S_U_Columns')\n",
    "ax1.boxplot(Rushing)\n",
    "plt.show()"
   ]
  },
  {
   "cell_type": "code",
   "execution_count": 17,
   "id": "5bb0ac26",
   "metadata": {},
   "outputs": [
    {
     "data": {
      "image/png": "[encoded data removed]",
      "text/plain": [
       "<Figure size 432x288 with 1 Axes>"
      ]
     },
     "metadata": {
      "needs_background": "light"
     },
     "output_type": "display_data"
    }
   ],
   "source": [
    "Receiving = file_one_df[['Receptions','Receiving Yards','Receiving Touchdowns']]\n",
    "Receiving=Receiving.fillna(0)\n",
    "fig1, ax1 = plt.subplots()\n",
    "ax1.set_title('Receptions_ReceivingYards_ReceivingTouchdowns')\n",
    "ax1.set_ylabel('V_X_Columns')\n",
    "ax1.boxplot(Receiving)\n",
    "plt.show()"
   ]
  },
  {
   "cell_type": "code",
   "execution_count": 18,
   "id": "fa0cc8c8",
   "metadata": {},
   "outputs": [
    {
     "data": {
      "image/png": "[encoded data removed]",
      "text/plain": [
       "<Figure size 432x288 with 1 Axes>"
      ]
     },
     "metadata": {
      "needs_background": "light"
     },
     "output_type": "display_data"
    }
   ],
   "source": [
    "solo = file_one_df[['Solo','Interceptions (DEF)','Sacks']]\n",
    "solo=solo.fillna(0)\n",
    "fig1, ax1 = plt.subplots()\n",
    "ax1.set_title('Solo_Interceptions_Sacks')\n",
    "ax1.set_ylabel('Y_AA_Columns')\n",
    "ax1.boxplot(solo)\n",
    "plt.show()"
   ]
  },
  {
   "cell_type": "code",
   "execution_count": null,
   "id": "f22431d2",
   "metadata": {},
   "outputs": [],
   "source": []
  }
 ],
 "metadata": {
  "kernelspec": {
   "display_name": "Python [conda env:PythonAdv] *",
   "language": "python",
   "name": "conda-env-PythonAdv-py"
  },
  "language_info": {
   "codemirror_mode": {
    "name": "ipython",
    "version": 3
   },
   "file_extension": ".py",
   "mimetype": "text/x-python",
   "name": "python",
   "nbconvert_exporter": "python",
   "pygments_lexer": "ipython3",
   "version": "3.6.13"
  }
 },
 "nbformat": 4,
 "nbformat_minor": 5
}
